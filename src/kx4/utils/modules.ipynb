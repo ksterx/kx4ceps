{
 "cells": [
  {
   "cell_type": "code",
   "execution_count": 1,
   "metadata": {},
   "outputs": [],
   "source": [
    "def is_notebook():\n",
    "    \"\"\"Determine wheather is the environment Jupyter Notebook\"\"\"\n",
    "    if \"get_ipython\" not in globals():\n",
    "        # Python shell\n",
    "        return False\n",
    "    env_name = get_ipython().__class__.__name__\n",
    "    if env_name == \"TerminalInteractiveShell\":\n",
    "        # IPython shell\n",
    "        return False\n",
    "    # Jupyter Notebook\n",
    "    return True"
   ]
  },
  {
   "cell_type": "code",
   "execution_count": null,
   "metadata": {},
   "outputs": [],
   "source": []
  }
 ],
 "metadata": {
  "jupytext": {
   "text_representation": {
    "extension": ".py",
    "format_name": "light",
    "format_version": "1.5",
    "jupytext_version": "1.6.0"
   }
  },
  "kernelspec": {
   "display_name": "Python 3",
   "language": "python",
   "name": "python3"
  },
  "language_info": {
   "codemirror_mode": {
    "name": "ipython",
    "version": 3
   },
   "file_extension": ".py",
   "mimetype": "text/x-python",
   "name": "python",
   "nbconvert_exporter": "python",
   "pygments_lexer": "ipython3",
   "version": "3.7.9"
  }
 },
 "nbformat": 4,
 "nbformat_minor": 4
}
