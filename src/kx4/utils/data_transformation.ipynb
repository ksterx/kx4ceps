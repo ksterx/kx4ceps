{
 "cells": [
  {
   "cell_type": "code",
   "execution_count": null,
   "metadata": {
    "lines_to_next_cell": 1
   },
   "outputs": [],
   "source": [
    "import torch\n",
    "import yaml\n",
    "import numpy as np\n",
    "from PIL import Image"
   ]
  },
  {
   "cell_type": "code",
   "execution_count": null,
   "metadata": {},
   "outputs": [],
   "source": [
    "class Image2Tensor:\n",
    "    def __init__(self, is_batch_learning=True):\n",
    "        self.is_batch_learning = is_batch_learning\n",
    "\n",
    "    def __call__(self, input_img):\n",
    "        img = np.asarray(input_img).astype(\"f\") / 255\n",
    "\n",
    "        if self.is_batch_learning:\n",
    "            img = torch.from_numpy(img)\n",
    "            img = img.numpy().transpose((2, 0, 1))\n",
    "            img = torch.from_numpy(img)\n",
    "\n",
    "        else:\n",
    "            img = torch.from_numpy(img).unsqueeze_(0)\n",
    "            img = img.numpy().transpose((0, 3, 1, 2))\n",
    "            img = torch.from_numpy(img)\n",
    "\n",
    "        return img\n",
    "\n",
    "    def pil_resize(self, input_img, resize_shape):\n",
    "        \"\"\"\n",
    "        If an image is not pre-resized...\n",
    "        :param input_img:\n",
    "        :param resize_shape:\n",
    "        :return:\n",
    "        \"\"\"\n",
    "        im = input_img.resize(resize_shape, Image.BICUBIC)\n",
    "        im = np.asarray(im).astype(\"f\") / 255\n",
    "\n",
    "        if self.is_batch_learning:\n",
    "            img = torch.from_numpy(im)\n",
    "            img = img.numpy().transpose((2, 0, 1))\n",
    "            img = torch.from_numpy(img)\n",
    "\n",
    "        else:\n",
    "            img = torch.from_numpy(im).unsqueeze_(0)\n",
    "            img = img.numpy().transpose((0, 3, 1, 2))\n",
    "            img = torch.from_numpy(img)\n",
    "\n",
    "        return img"
   ]
  },
  {
   "cell_type": "markdown",
   "metadata": {},
   "source": [
    "### Parameter range\n",
    "$$\n",
    "-1\\le u_x\\le 1, -1\\le u_y\\le 1, -1\\le u_z\\le -0.5\n",
    "$$"
   ]
  },
  {
   "cell_type": "code",
   "execution_count": null,
   "metadata": {
    "lines_to_next_cell": 1
   },
   "outputs": [],
   "source": [
    "class Scaler:\n",
    "    def __init__(self, value_list, is_batch):\n",
    "        if is_batch:\n",
    "            self.x, self.y, self.z = torch.chunk(value_list[0], 3, dim=1)\n",
    "            self.ux, self.uy, self.uz = torch.chunk(value_list[1], 3, dim=1)\n",
    "            self.phi = value_list[2]\n",
    "            self.gamma = value_list[3]\n",
    "\n",
    "        else:\n",
    "            self.x, self.y, self.z = value_list[:3]\n",
    "            self.ux, self.uy, self.uz = value_list[3:6]\n",
    "            self.phi = value_list[6]\n",
    "            self.gamma = value_list[7:9]\n",
    "\n",
    "    def norm_param(self, yaml_path):\n",
    "        \"\"\"\n",
    "        Normalize parmeters (0-1)\n",
    "        \"\"\"\n",
    "        x_range, y_range, z_min, z_max, phi_max = read_conf(yaml_path)\n",
    "\n",
    "        # Position\n",
    "        x = (self.x + x_range) / (2 * x_range)\n",
    "        y = (self.y + y_range) / (2 * y_range)\n",
    "        z = (self.z + z_min) / (z_min - z_max)\n",
    "\n",
    "        # Orientation\n",
    "        ux = (self.ux + 1) / 2\n",
    "        uy = (self.uy + 1) / 2\n",
    "        uz = -(2 * self.uz + 1)\n",
    "\n",
    "        # Joint angle\n",
    "        phi = self.phi / phi_max\n",
    "\n",
    "        # Rotation\n",
    "        sin = (torch.sin(torch.deg2rad(torch.Tensor([self.gamma[\"gamma\"]]))) + 1) / 2\n",
    "        cos = (torch.cos(torch.deg2rad(torch.Tensor([self.gamma[\"gamma\"]]))) + 1) / 2\n",
    "\n",
    "        return (\n",
    "            torch.Tensor([x, y, z]),\n",
    "            torch.Tensor([ux, uy, uz]),\n",
    "            torch.Tensor([phi]),\n",
    "            torch.Tensor([sin, cos]),\n",
    "        )\n",
    "\n",
    "    def denorm_error(self, yaml_path=None):\n",
    "        \"\"\"\n",
    "        Denormalize error (0-1) to error (unit) such as mm\n",
    "        \"\"\"\n",
    "        x_range, y_range, z_min, z_max, phi_max = read_conf(yaml_path)\n",
    "\n",
    "        # Position\n",
    "        x = 2 * self.x * x_range\n",
    "        y = 2 * self.y * y_range\n",
    "        z = self.z * (z_max - z_min)\n",
    "\n",
    "        # Orientation\n",
    "        ux = 2 * self.ux\n",
    "        uy = 2 * self.uy\n",
    "        uz = self.uz / 2\n",
    "\n",
    "        # Rotation\n",
    "        gamma = self.gamma * 360\n",
    "\n",
    "        # Joint angle\n",
    "        phi = self.phi * phi_max\n",
    "\n",
    "        return x, y, z, ux, uy, uz, phi, gamma\n",
    "\n",
    "    def denorm_param(self, yaml_path, is_batch):\n",
    "        x_range, y_range, z_min, z_max, phi_max = read_conf(yaml_path)\n",
    "\n",
    "        # Position\n",
    "        x = 2 * (self.x - 0.5) * x_range\n",
    "        y = 2 * (self.y - 0.5) * y_range\n",
    "        z = self.z * (z_max - z_min) + z_min\n",
    "\n",
    "        # Orientation\n",
    "        ux = 2 * self.ux - 1\n",
    "        uy = 2 * self.uy - 1\n",
    "        uz = -(self.uz + 1) / 2\n",
    "\n",
    "        # Joint angle\n",
    "        phi = self.phi * phi_max\n",
    "\n",
    "        if is_batch:\n",
    "            trans = torch.cat([x, y, z], dim=1)\n",
    "            orient = torch.cat([ux, uy, uz], dim=1)\n",
    "        else:\n",
    "            trans = torch.tensor([x, y, z])\n",
    "            orient = torch.tensor([ux, uy, uz])\n",
    "\n",
    "        return trans, orient, phi"
   ]
  },
  {
   "cell_type": "code",
   "execution_count": null,
   "metadata": {},
   "outputs": [],
   "source": [
    "def read_conf(yamlpath):\n",
    "    with open(yamlpath) as f:\n",
    "        ds_conf = yaml.load(f, Loader=yaml.SafeLoader)\n",
    "        x_range = ds_conf[\"translation\"][\"x_range\"]\n",
    "        y_range = ds_conf[\"translation\"][\"y_range\"]\n",
    "        z_min = ds_conf[\"translation\"][\"z_min\"]\n",
    "        z_max = ds_conf[\"translation\"][\"z_max\"]\n",
    "        phi_max = ds_conf[\"articulation\"][\"phi_max\"]\n",
    "    return x_range, y_range, z_min, z_max, phi_max"
   ]
  },
  {
   "cell_type": "markdown",
   "metadata": {},
   "source": [
    "## Cosine Similarity"
   ]
  },
  {
   "cell_type": "code",
   "execution_count": null,
   "metadata": {},
   "outputs": [],
   "source": [
    "def vec_similarity(a, b):\n",
    "    cosine = (a * b).sum(dim=1, keepdim=True) / (\n",
    "        torch.norm(a, dim=1, keepdim=True) * torch.norm(b, dim=1, keepdim=True)\n",
    "    )\n",
    "    angle = cosine.acos() * 180 / np.pi\n",
    "\n",
    "    return cosine, angle"
   ]
  }
 ],
 "metadata": {
  "jupytext": {
   "text_representation": {
    "extension": ".py",
    "format_name": "light",
    "format_version": "1.5",
    "jupytext_version": "1.5.1"
   }
  },
  "kernelspec": {
   "display_name": "Python 3",
   "language": "python",
   "name": "python3"
  },
  "language_info": {
   "codemirror_mode": {
    "name": "ipython",
    "version": 3
   },
   "file_extension": ".py",
   "mimetype": "text/x-python",
   "name": "python",
   "nbconvert_exporter": "python",
   "pygments_lexer": "ipython3",
   "version": "3.8.3"
  },
  "toc-showtags": false
 },
 "nbformat": 4,
 "nbformat_minor": 4
}
