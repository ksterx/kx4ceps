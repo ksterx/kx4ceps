{
 "cells": [
  {
   "cell_type": "code",
   "execution_count": null,
   "metadata": {},
   "outputs": [],
   "source": [
    "import glob\n",
    "from PIL import Image\n",
    "import numpy as np\n",
    "import tqdm"
   ]
  },
  {
   "cell_type": "code",
   "execution_count": null,
   "metadata": {
    "lines_to_next_cell": 1
   },
   "outputs": [],
   "source": [
    "def norm_color(clist):\n",
    "    c = np.array(clist, dtype=float)\n",
    "    c = c / (img.shape[0] * img.shape[1] * 255)\n",
    "    return c.mean(), c.std()"
   ]
  },
  {
   "cell_type": "code",
   "execution_count": null,
   "metadata": {},
   "outputs": [],
   "source": [
    "r_list = []\n",
    "g_list = []\n",
    "b_list = []\n",
    "cmean = []\n",
    "cstd = []"
   ]
  },
  {
   "cell_type": "code",
   "execution_count": null,
   "metadata": {},
   "outputs": [],
   "source": [
    "for imgpath in tqdm.tqdm(glob.glob(\"../Database/ds_024/*/*.jpg\")):\n",
    "    img = np.array(Image.open(imgpath))\n",
    "    r_list.append(img[:, :, 0].sum())\n",
    "    g_list.append(img[:, :, 1].sum())\n",
    "    b_list.append(img[:, :, 2].sum())"
   ]
  },
  {
   "cell_type": "code",
   "execution_count": null,
   "metadata": {},
   "outputs": [],
   "source": [
    "for clist in [r_list, g_list, b_list]:\n",
    "    c_mean, c_std = norm_color(clist)\n",
    "    cmean.append(c_mean)\n",
    "    cstd.append(c_std)"
   ]
  },
  {
   "cell_type": "code",
   "execution_count": null,
   "metadata": {},
   "outputs": [],
   "source": [
    "print(\"color mean =\", cmean)\n",
    "print(\"color std  =\", cstd)"
   ]
  },
  {
   "cell_type": "code",
   "execution_count": null,
   "metadata": {},
   "outputs": [],
   "source": []
  }
 ],
 "metadata": {
  "jupytext": {
   "cell_metadata_filter": "-all",
   "main_language": "python",
   "notebook_metadata_filter": "-all",
   "text_representation": {
    "extension": ".py",
    "format_name": "light"
   }
  },
  "kernelspec": {
   "display_name": "Python 3",
   "language": "python",
   "name": "python3"
  },
  "language_info": {
   "codemirror_mode": {
    "name": "ipython",
    "version": 3
   },
   "file_extension": ".py",
   "mimetype": "text/x-python",
   "name": "python",
   "nbconvert_exporter": "python",
   "pygments_lexer": "ipython3",
   "version": "3.7.9"
  }
 },
 "nbformat": 4,
 "nbformat_minor": 4
}
