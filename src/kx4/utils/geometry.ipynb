{
 "cells": [
  {
   "cell_type": "code",
   "execution_count": null,
   "metadata": {},
   "outputs": [],
   "source": [
    "import torch\n",
    "import cv2\n",
    "import numpy as np\n",
    "import pandas as pd"
   ]
  },
  {
   "cell_type": "code",
   "execution_count": null,
   "metadata": {},
   "outputs": [],
   "source": [
    "def sc2deg(sine: torch.tensor, cosine: torch.tensor):\n",
    "    deg = torch.rad2deg(torch.atan2(sine, cosine))\n",
    "    return deg"
   ]
  },
  {
   "cell_type": "code",
   "execution_count": null,
   "metadata": {},
   "outputs": [],
   "source": [
    "def scale180(a: torch.tensor):\n",
    "    a = torch.where(a > 180, 360-a, a)\n",
    "    a = torch.where(a < -180, 360+a, a)\n",
    "    return a"
   ]
  },
  {
   "cell_type": "code",
   "execution_count": null,
   "metadata": {
    "lines_to_next_cell": 2
   },
   "outputs": [],
   "source": [
    "def project_onto_plane(p, a_ratio: float, fov, is_batch):\n",
    "    '''\n",
    "    Args:\n",
    "        p: position (x, y, z)\n",
    "        a_ratio: aspect ratio (height, width)\n",
    "        fov: field of view [deg]\n",
    "\n",
    "    O +------> x_2d\n",
    "      |\n",
    "      |\n",
    "      v\n",
    "     y_2d\n",
    "\n",
    "    Returns:\n",
    "        tuple: (x_2d [0, 1], y_2d [0, 1])\n",
    "    '''\n",
    "    assert 0 < a_ratio <= 1\n",
    "    \n",
    "    if not is_batch:\n",
    "\n",
    "        if p[2] < 0:\n",
    "            p *= -1\n",
    "        x_2d = p[0] / (p[2] * np.tan(fov/2))\n",
    "        y_2d = (a_ratio * p[1]) / (p[2] * np.tan(fov/2))\n",
    "        x_2d = (1 + x_2d) / 2\n",
    "        y_2d = (1 - y_2d) / 2\n",
    "        ret = torch.tensor([x_2d, y_2d])\n",
    "\n",
    "    else:\n",
    "        if p[1, 2] < 0:\n",
    "            p[:, 2] *= -1\n",
    "        x_2d = p[:, 0] / (p[:, 2] * np.tan(fov/2))\n",
    "        y_2d = (a_ratio * p[:, 1]) / (a_ratio * p[:, 2] * np.tan(fov/2))\n",
    "        x_2d = x_2d.view(-1, 1)\n",
    "        y_2d = y_2d.view(-1, 1)\n",
    "        x_2d = (1 + x_2d) / 2\n",
    "        y_2d = (1 - y_2d) / 2\n",
    "        ret = torch.cat([x_2d, y_2d], dim=1)\n",
    "\n",
    "    return ret"
   ]
  }
 ],
 "metadata": {
  "jupytext": {
   "text_representation": {
    "extension": ".py",
    "format_name": "light",
    "format_version": "1.5",
    "jupytext_version": "1.6.0"
   }
  },
  "kernelspec": {
   "display_name": "Python 3",
   "language": "python",
   "name": "python3"
  },
  "language_info": {
   "file_extension": ".py",
   "mimetype": "text/x-python",
   "name": "python",
   "version": "3.7.8"
  }
 },
 "nbformat": 4,
 "nbformat_minor": 4
}
