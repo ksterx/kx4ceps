{
 "cells": [
  {
   "cell_type": "code",
   "execution_count": 1,
   "metadata": {},
   "outputs": [],
   "source": [
    "import pandas as pd\n",
    "import matplotlib.pyplot as plt\n",
    "import torch\n",
    "import numpy as np\n",
    "\n",
    "# import seaborn as sns\n",
    "# from data_transformation_euler import vec_similarity"
   ]
  },
  {
   "cell_type": "code",
   "execution_count": 3,
   "metadata": {},
   "outputs": [],
   "source": [
    "def analyzer(pred_df, target_df, savepath, num, size):\n",
    "    e_trans3d = (\n",
    "        torch.tensor(pred_df.loc[:, [\"e_x\", \"e_y\", \"e_z\"]].values)\n",
    "        .norm(dim=1, keepdim=True)\n",
    "        .numpy()\n",
    "    )\n",
    "    a = torch.tensor(pred_df.loc[:, [\"e_x_2d\", \"e_y_2d\"]].values)\n",
    "    a[:, 0], a[:, 1] = a[:, 0] * size[0], a[:, 1] * size[1]\n",
    "    e_trans2d = a.norm(dim=1, keepdim=True).numpy()\n",
    "\n",
    "    n_pred = torch.tensor(pred_df.loc[:, [\"nx\", \"ny\", \"nz\"]].values)\n",
    "    n_target = torch.tensor(target_df.loc[:, [\"nx\", \"ny\", \"nz\"]].values)\n",
    "    _, e_orient = vec_similarity(n_pred, n_target)\n",
    "\n",
    "    pred_df = pred_df.join(\n",
    "        pd.DataFrame(\n",
    "            np.concatenate([e_trans3d, e_trans2d, e_orient.numpy()], 1),\n",
    "            columns=[\"e_trans3d\", \"e_trans2d\", \"e_orient\"],\n",
    "        )\n",
    "    )\n",
    "\n",
    "    # The roll error must be in the range; [-180, 180]\n",
    "    for i in range(len(pred_df)):\n",
    "        if pred_df.at[i, \"e_gamma\"] > 180:\n",
    "            pred_df.at[i, \"e_gamma\"] = pred_df.at[i, \"e_gamma\"] - 360\n",
    "\n",
    "        elif pred_df.at[i, \"e_gamma\"] < -180:\n",
    "            pred_df.at[i, \"e_gamma\"] = 360 + pred_df.at[i, \"e_gamma\"]\n",
    "\n",
    "    pred_df.to_csv(savepath + \"/pred_{:03d}.csv\".format(num), index=False)\n",
    "\n",
    "    report = \"\"\"\n",
    "    Error            MAE       SD\n",
    "    ===================================\n",
    "    3D [mm]:        %.2f     %.2f\n",
    "    2D [px]:        %.2f     %.2f\n",
    "    Orient [deg]:   %.2f     %.2f\n",
    "    Joint  [deg]:   %.2f     %.2f\n",
    "    Rotate [deg]:   %.2f     %.2f\n",
    "    \"\"\" % (\n",
    "        pred_df[\"e_trans3d\"].mean(),\n",
    "        pred_df[\"e_trans3d\"].std(),\n",
    "        pred_df[\"e_trans2d\"].mean(),\n",
    "        pred_df[\"e_trans2d\"].std(),\n",
    "        abs(pred_df[\"e_orient\"]).mean(),\n",
    "        pred_df[\"e_orient\"].std(),\n",
    "        abs(pred_df[\"e_phi\"]).mean(),\n",
    "        pred_df[\"e_phi\"].std(),\n",
    "        abs(pred_df[\"e_gamma\"]).mean(),\n",
    "        pred_df[\"e_gamma\"].std(),\n",
    "    )\n",
    "\n",
    "    with open(savepath + \"/report.md\", mode=\"w\") as f:\n",
    "        f.write(report)\n",
    "\n",
    "    print(report)"
   ]
  },
  {
   "cell_type": "code",
   "execution_count": 4,
   "metadata": {},
   "outputs": [],
   "source": [
    "def vec_similarity(a, b):\n",
    "    cosine = (a * b).sum(dim=1, keepdim=True) / (\n",
    "        torch.norm(a, dim=1, keepdim=True) * torch.norm(b, dim=1, keepdim=True)\n",
    "    )\n",
    "    angle = cosine.acos() * 180 / np.pi\n",
    "\n",
    "    return cosine, angle"
   ]
  },
  {
   "cell_type": "code",
   "execution_count": null,
   "metadata": {},
   "outputs": [],
   "source": [
    "if __name__ == \"__main__\":\n",
    "    p_path = input(\"pred_xxx.csv path: \")\n",
    "    t_path = input(\"val_xxx.csv path: \")\n",
    "    s_path = input(\"artifact path: \")\n",
    "    ds_num = int(input(\"Dataset: #\"))\n",
    "    p_df = pd.read_csv(p_path)\n",
    "    t_df = pd.read_csv(t_path)\n",
    "    analyzer(p_df, t_df, s_path, ds_num, (224, 224))"
   ]
  },
  {
   "cell_type": "code",
   "execution_count": null,
   "metadata": {},
   "outputs": [],
   "source": []
  }
 ],
 "metadata": {
  "jupytext": {
   "text_representation": {
    "extension": ".py",
    "format_name": "light",
    "format_version": "1.5",
    "jupytext_version": "1.5.1"
   }
  },
  "kernelspec": {
   "display_name": "Python 3",
   "language": "python",
   "name": "python3"
  },
  "language_info": {
   "codemirror_mode": {
    "name": "ipython",
    "version": 3
   },
   "file_extension": ".py",
   "mimetype": "text/x-python",
   "name": "python",
   "nbconvert_exporter": "python",
   "pygments_lexer": "ipython3",
   "version": "3.8.3"
  }
 },
 "nbformat": 4,
 "nbformat_minor": 4
}
